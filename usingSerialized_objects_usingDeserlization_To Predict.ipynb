{
 "cells": [
  {
   "cell_type": "code",
   "execution_count": 1,
   "id": "f8634740",
   "metadata": {
    "ExecuteTime": {
     "end_time": "2023-04-18T12:25:01.222777Z",
     "start_time": "2023-04-18T12:25:01.209899Z"
    }
   },
   "outputs": [],
   "source": [
    "import pickle\n",
    "import numpy as np # As we are feeding the data in NUMPY array format"
   ]
  },
  {
   "cell_type": "markdown",
   "id": "b36b9d55",
   "metadata": {},
   "source": [
    "# Deserialize and Store the Classifier & Scaler in their Local Object"
   ]
  },
  {
   "cell_type": "code",
   "execution_count": 2,
   "id": "e79bc480",
   "metadata": {
    "ExecuteTime": {
     "end_time": "2023-04-18T12:26:24.454546Z",
     "start_time": "2023-04-18T12:26:22.998972Z"
    }
   },
   "outputs": [],
   "source": [
    "local_classifier = pickle.load(open('classifier.pickle','rb'))\n",
    "local_scaler = pickle.load(open('sc.pickle','rb'))"
   ]
  },
  {
   "cell_type": "code",
   "execution_count": null,
   "id": "120321d7",
   "metadata": {},
   "outputs": [],
   "source": []
  },
  {
   "cell_type": "markdown",
   "id": "cab6362d",
   "metadata": {},
   "source": [
    "## Using \"local_classifier\" and \"local_scaler\", \n",
    "\n",
    "## to Predict whether a Customer with AGE = 40 and Salary=20000 with Purchase or Not"
   ]
  },
  {
   "cell_type": "markdown",
   "id": "18d54a38",
   "metadata": {},
   "source": [
    "**Prior Converting the New Data into Numpy Array, pretty much we did while we trained the data**"
   ]
  },
  {
   "cell_type": "code",
   "execution_count": 4,
   "id": "6a128b9a",
   "metadata": {
    "ExecuteTime": {
     "end_time": "2023-04-18T12:29:25.052716Z",
     "start_time": "2023-04-18T12:29:25.029722Z"
    }
   },
   "outputs": [
    {
     "data": {
      "text/plain": [
       "array([0], dtype=int64)"
      ]
     },
     "execution_count": 4,
     "metadata": {},
     "output_type": "execute_result"
    }
   ],
   "source": [
    "new_pred = local_classifier.predict(local_scaler.transform(np.array([[40,20000]])))\n",
    "new_pred"
   ]
  },
  {
   "cell_type": "markdown",
   "id": "4613c27c",
   "metadata": {},
   "source": [
    "- Which means the Customer will Not Purchase"
   ]
  },
  {
   "cell_type": "markdown",
   "id": "1e734ee4",
   "metadata": {},
   "source": [
    "**Let's Check the Probability for the Same!**"
   ]
  },
  {
   "cell_type": "code",
   "execution_count": 5,
   "id": "7cdaf2af",
   "metadata": {
    "ExecuteTime": {
     "end_time": "2023-04-18T12:32:37.831680Z",
     "start_time": "2023-04-18T12:32:37.823428Z"
    }
   },
   "outputs": [
    {
     "data": {
      "text/plain": [
       "array([0.2])"
      ]
     },
     "execution_count": 5,
     "metadata": {},
     "output_type": "execute_result"
    }
   ],
   "source": [
    "new_prediction_proba = local_classifier.predict_proba(local_scaler.transform(np.array([[40,20000]])))[:,1]\n",
    "new_prediction_proba"
   ]
  },
  {
   "cell_type": "code",
   "execution_count": null,
   "id": "9b20567e",
   "metadata": {},
   "outputs": [],
   "source": []
  },
  {
   "cell_type": "markdown",
   "id": "cc245409",
   "metadata": {},
   "source": [
    "## Predict whether a Customer with AGE = 42 and Salary=50000 with Purchase or Not"
   ]
  },
  {
   "cell_type": "code",
   "execution_count": 6,
   "id": "7aca3ee0",
   "metadata": {
    "ExecuteTime": {
     "end_time": "2023-04-18T12:44:30.656197Z",
     "start_time": "2023-04-18T12:44:30.643155Z"
    }
   },
   "outputs": [
    {
     "data": {
      "text/plain": [
       "array([1], dtype=int64)"
      ]
     },
     "execution_count": 6,
     "metadata": {},
     "output_type": "execute_result"
    }
   ],
   "source": [
    "new_pred = local_classifier.predict(local_scaler.transform(np.array([[42,50000]])))\n",
    "new_pred"
   ]
  },
  {
   "cell_type": "code",
   "execution_count": 7,
   "id": "382fa6bd",
   "metadata": {
    "ExecuteTime": {
     "end_time": "2023-04-18T12:44:59.369729Z",
     "start_time": "2023-04-18T12:44:59.360879Z"
    }
   },
   "outputs": [
    {
     "data": {
      "text/plain": [
       "array([0.8])"
      ]
     },
     "execution_count": 7,
     "metadata": {},
     "output_type": "execute_result"
    }
   ],
   "source": [
    "new_pred_proba = local_classifier.predict_proba(local_scaler.transform(np.array([[42,50000]])))[:,1]\n",
    "new_pred_proba"
   ]
  },
  {
   "cell_type": "code",
   "execution_count": null,
   "id": "8899b261",
   "metadata": {},
   "outputs": [],
   "source": []
  }
 ],
 "metadata": {
  "kernelspec": {
   "display_name": "Python 3 (ipykernel)",
   "language": "python",
   "name": "python3"
  },
  "language_info": {
   "codemirror_mode": {
    "name": "ipython",
    "version": 3
   },
   "file_extension": ".py",
   "mimetype": "text/x-python",
   "name": "python",
   "nbconvert_exporter": "python",
   "pygments_lexer": "ipython3",
   "version": "3.9.15"
  }
 },
 "nbformat": 4,
 "nbformat_minor": 5
}
