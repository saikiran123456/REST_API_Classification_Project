{
  "nbformat": 4,
  "nbformat_minor": 0,
  "metadata": {
    "colab": {
      "provenance": []
    },
    "kernelspec": {
      "name": "python3",
      "display_name": "Python 3"
    },
    "language_info": {
      "name": "python"
    },
    "gpuClass": "standard"
  },
  "cells": [
    {
      "cell_type": "code",
      "source": [
        "import pickle\n",
        "import numpy as np"
      ],
      "metadata": {
        "id": "Riwst_RMfSfL"
      },
      "execution_count": 7,
      "outputs": []
    },
    {
      "cell_type": "code",
      "execution_count": 6,
      "metadata": {
        "colab": {
          "base_uri": "https://localhost:8080/"
        },
        "id": "GwJBTbu_dfeU",
        "outputId": "831961a6-de25-4ad8-86e3-cc0507438484"
      },
      "outputs": [
        {
          "output_type": "stream",
          "name": "stdout",
          "text": [
            "classifier.pickle  sample_data\tsc.pickle\n"
          ]
        }
      ],
      "source": [
        "!ls"
      ]
    },
    {
      "cell_type": "code",
      "source": [
        "!wget https://github.com/saikiran123456/REST_API_Classification_Project/raw/Machine-learning/classifier.pickle"
      ],
      "metadata": {
        "colab": {
          "base_uri": "https://localhost:8080/"
        },
        "id": "Y8RvhGYkdk--",
        "outputId": "333e4d34-c818-45d2-8940-446f83da55f1"
      },
      "execution_count": 2,
      "outputs": [
        {
          "output_type": "stream",
          "name": "stdout",
          "text": [
            "--2023-04-18 13:06:55--  https://github.com/saikiran123456/REST_API_Classification_Project/raw/Machine-learning/classifier.pickle\n",
            "Resolving github.com (github.com)... 192.30.255.113\n",
            "Connecting to github.com (github.com)|192.30.255.113|:443... connected.\n",
            "HTTP request sent, awaiting response... 302 Found\n",
            "Location: https://raw.githubusercontent.com/saikiran123456/REST_API_Classification_Project/Machine-learning/classifier.pickle [following]\n",
            "--2023-04-18 13:06:55--  https://raw.githubusercontent.com/saikiran123456/REST_API_Classification_Project/Machine-learning/classifier.pickle\n",
            "Resolving raw.githubusercontent.com (raw.githubusercontent.com)... 185.199.108.133, 185.199.109.133, 185.199.110.133, ...\n",
            "Connecting to raw.githubusercontent.com (raw.githubusercontent.com)|185.199.108.133|:443... connected.\n",
            "HTTP request sent, awaiting response... 200 OK\n",
            "Length: 2102 (2.1K) [application/octet-stream]\n",
            "Saving to: ‘classifier.pickle’\n",
            "\n",
            "classifier.pickle   100%[===================>]   2.05K  --.-KB/s    in 0s      \n",
            "\n",
            "2023-04-18 13:06:55 (35.0 MB/s) - ‘classifier.pickle’ saved [2102/2102]\n",
            "\n"
          ]
        }
      ]
    },
    {
      "cell_type": "code",
      "source": [
        "!wget https://github.com/saikiran123456/REST_API_Classification_Project/raw/Machine-learning/sc.pickle"
      ],
      "metadata": {
        "colab": {
          "base_uri": "https://localhost:8080/"
        },
        "id": "D3XfqiyCealU",
        "outputId": "29cc016b-d329-41e3-f815-f5a0b9e1b4ff"
      },
      "execution_count": 3,
      "outputs": [
        {
          "output_type": "stream",
          "name": "stdout",
          "text": [
            "--2023-04-18 13:07:18--  https://github.com/saikiran123456/REST_API_Classification_Project/raw/Machine-learning/sc.pickle\n",
            "Resolving github.com (github.com)... 192.30.255.113\n",
            "Connecting to github.com (github.com)|192.30.255.113|:443... connected.\n",
            "HTTP request sent, awaiting response... 302 Found\n",
            "Location: https://raw.githubusercontent.com/saikiran123456/REST_API_Classification_Project/Machine-learning/sc.pickle [following]\n",
            "--2023-04-18 13:07:18--  https://raw.githubusercontent.com/saikiran123456/REST_API_Classification_Project/Machine-learning/sc.pickle\n",
            "Resolving raw.githubusercontent.com (raw.githubusercontent.com)... 185.199.109.133, 185.199.111.133, 185.199.108.133, ...\n",
            "Connecting to raw.githubusercontent.com (raw.githubusercontent.com)|185.199.109.133|:443... connected.\n",
            "HTTP request sent, awaiting response... 200 OK\n",
            "Length: 497 [application/octet-stream]\n",
            "Saving to: ‘sc.pickle’\n",
            "\n",
            "sc.pickle           100%[===================>]     497  --.-KB/s    in 0s      \n",
            "\n",
            "2023-04-18 13:07:18 (16.7 MB/s) - ‘sc.pickle’ saved [497/497]\n",
            "\n"
          ]
        }
      ]
    },
    {
      "cell_type": "code",
      "source": [
        "!ls"
      ],
      "metadata": {
        "colab": {
          "base_uri": "https://localhost:8080/"
        },
        "id": "lhRG07xMegDV",
        "outputId": "d709f911-61f5-4d4d-b676-09c08b69bfce"
      },
      "execution_count": 4,
      "outputs": [
        {
          "output_type": "stream",
          "name": "stdout",
          "text": [
            "classifier.pickle  sample_data\tsc.pickle\n"
          ]
        }
      ]
    },
    {
      "cell_type": "code",
      "source": [
        "classifier_colab = pickle.load(open('classifier.pickle', 'rb'))"
      ],
      "metadata": {
        "colab": {
          "base_uri": "https://localhost:8080/"
        },
        "id": "zopp95b9e74U",
        "outputId": "b17da28d-f902-406f-c348-7021f58559b6"
      },
      "execution_count": 8,
      "outputs": [
        {
          "output_type": "stream",
          "name": "stderr",
          "text": [
            "/usr/local/lib/python3.9/dist-packages/sklearn/base.py:318: UserWarning: Trying to unpickle estimator KNeighborsClassifier from version 1.1.3 when using version 1.2.2. This might lead to breaking code or invalid results. Use at your own risk. For more info please refer to:\n",
            "https://scikit-learn.org/stable/model_persistence.html#security-maintainability-limitations\n",
            "  warnings.warn(\n"
          ]
        }
      ]
    },
    {
      "cell_type": "code",
      "source": [
        "scaler_colab = pickle.load(open('sc.pickle', 'rb'))"
      ],
      "metadata": {
        "colab": {
          "base_uri": "https://localhost:8080/"
        },
        "id": "mquxOIzhfQoL",
        "outputId": "8c048415-394f-46d4-b5d4-f761d4d26e99"
      },
      "execution_count": 9,
      "outputs": [
        {
          "output_type": "stream",
          "name": "stderr",
          "text": [
            "/usr/local/lib/python3.9/dist-packages/sklearn/base.py:318: UserWarning: Trying to unpickle estimator StandardScaler from version 1.1.3 when using version 1.2.2. This might lead to breaking code or invalid results. Use at your own risk. For more info please refer to:\n",
            "https://scikit-learn.org/stable/model_persistence.html#security-maintainability-limitations\n",
            "  warnings.warn(\n"
          ]
        }
      ]
    },
    {
      "cell_type": "code",
      "source": [
        "## Next we will use the classifier and scalar objects to do the prediction."
      ],
      "metadata": {
        "id": "MuOF3wyrfd21"
      },
      "execution_count": 10,
      "outputs": []
    },
    {
      "cell_type": "code",
      "source": [
        "## to Predict whether a Customer with AGE = 40 and Salary=20000 with Purchase or Not"
      ],
      "metadata": {
        "id": "yMdIxHcSfgjF"
      },
      "execution_count": 11,
      "outputs": []
    },
    {
      "cell_type": "code",
      "source": [
        "new_pred = classifier_colab.predict(scaler_colab.transform(np.array([[40,20000]])))\n",
        "new_pred"
      ],
      "metadata": {
        "colab": {
          "base_uri": "https://localhost:8080/"
        },
        "id": "zgYH283Jfj4f",
        "outputId": "8695f710-78fe-4308-90d5-77c6069df3a8"
      },
      "execution_count": 12,
      "outputs": [
        {
          "output_type": "execute_result",
          "data": {
            "text/plain": [
              "array([0])"
            ]
          },
          "metadata": {},
          "execution_count": 12
        }
      ]
    },
    {
      "cell_type": "code",
      "source": [
        "new_prediction_proba = classifier_colab.predict_proba(scaler_colab.transform(np.array([[40,20000]])))[:,1]\n",
        "new_prediction_proba"
      ],
      "metadata": {
        "colab": {
          "base_uri": "https://localhost:8080/"
        },
        "id": "Erkl_p4Bfpe3",
        "outputId": "b6fb6057-544e-4748-971c-5d125e3e1c94"
      },
      "execution_count": 13,
      "outputs": [
        {
          "output_type": "execute_result",
          "data": {
            "text/plain": [
              "array([0.2])"
            ]
          },
          "metadata": {},
          "execution_count": 13
        }
      ]
    },
    {
      "cell_type": "code",
      "source": [],
      "metadata": {
        "id": "ei87S3cqftcy"
      },
      "execution_count": 13,
      "outputs": []
    },
    {
      "cell_type": "code",
      "source": [
        "## Predict whether a Customer with AGE = 42 and Salary=50000 with Purchase or Not"
      ],
      "metadata": {
        "id": "EpjgSxigfu4a"
      },
      "execution_count": 14,
      "outputs": []
    },
    {
      "cell_type": "code",
      "source": [
        "new_pred = classifier_colab.predict(scaler_colab.transform(np.array([[42,50000]])))\n",
        "new_pred"
      ],
      "metadata": {
        "colab": {
          "base_uri": "https://localhost:8080/"
        },
        "id": "KW4PFk4GfvHq",
        "outputId": "7f64bacc-8039-4c96-a27b-783a12868f61"
      },
      "execution_count": 15,
      "outputs": [
        {
          "output_type": "execute_result",
          "data": {
            "text/plain": [
              "array([1])"
            ]
          },
          "metadata": {},
          "execution_count": 15
        }
      ]
    },
    {
      "cell_type": "code",
      "source": [
        "new_pred_proba = classifier_colab.predict_proba(scaler_colab.transform(np.array([[42,50000]])))[:,1]\n",
        "new_pred_proba"
      ],
      "metadata": {
        "colab": {
          "base_uri": "https://localhost:8080/"
        },
        "id": "rFu_KvWtfvWB",
        "outputId": "145e8266-336b-42bb-a5d4-fbdc7380b1d4"
      },
      "execution_count": 16,
      "outputs": [
        {
          "output_type": "execute_result",
          "data": {
            "text/plain": [
              "array([0.8])"
            ]
          },
          "metadata": {},
          "execution_count": 16
        }
      ]
    },
    {
      "cell_type": "code",
      "source": [
        "# This is how you can train models in one environment and run them in a completely new environment."
      ],
      "metadata": {
        "id": "GVakLoC-f3wz"
      },
      "execution_count": 19,
      "outputs": []
    },
    {
      "cell_type": "code",
      "source": [],
      "metadata": {
        "id": "XnESOG8Rf6lV"
      },
      "execution_count": null,
      "outputs": []
    }
  ]
}